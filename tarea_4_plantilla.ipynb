{
 "cells": [
  {
   "cell_type": "markdown",
   "metadata": {},
   "source": [
    "# **Tarea Nº 4**"
   ]
  },
  {
   "cell_type": "markdown",
   "metadata": {},
   "source": [
    "- Fecha y hora de entrega: Domingo 12 de enero, 11:59pm\n",
    "- Agregue los nombres de las personas con las que discutió esta tarea: __Rodrigo Farfan__\n",
    "- Envíe su tarea haciendo el `push` de su código a su repo en GitHub Classroom: "
   ]
  },
  {
   "cell_type": "markdown",
   "metadata": {},
   "source": [
    "### Evaluación\n",
    "\n",
    "- Nota: **17/20**\n",
    "\n",
    "¡Buen trabajo en general!"
   ]
  },
  {
   "cell_type": "markdown",
   "metadata": {},
   "source": [
    "## **Mercado de autos usados**"
   ]
  },
  {
   "cell_type": "markdown",
   "metadata": {},
   "source": [
    "Importa el conjunto de datos `neoauto_20240924.csv`\n",
    "    "
   ]
  },
  {
   "cell_type": "markdown",
   "metadata": {},
   "source": [
    "1. ¿Cuál es el precio promedio de los autos de cada marca (`item_brand`) publicados en cada subcategoría (`item_category_2`)?"
   ]
  },
  {
   "cell_type": "code",
   "execution_count": 7,
   "metadata": {},
   "outputs": [
    {
     "name": "stdout",
     "output_type": "stream",
     "text": [
      "       item_brand item_category_2     item_price\n",
      "0      ALFA-ROMEO       Hatchback    8500.000000\n",
      "1      ALFA-ROMEO           Sedan    2500.000000\n",
      "2    ASTON MARTIN  Camionetas Suv  229000.000000\n",
      "3    ASTON MARTIN       Deportivo  169990.000000\n",
      "4    ASTON MARTIN           Sedan  149900.000000\n",
      "..            ...             ...            ...\n",
      "197         VOLVO  Camionetas Suv   41801.707317\n",
      "198         VOLVO       Deportivo    8800.000000\n",
      "199         VOLVO       Hatchback   12772.500000\n",
      "200         VOLVO           Sedan   11458.333333\n",
      "201         VOLVO   Station Wagon    6100.000000\n",
      "\n",
      "[202 rows x 3 columns]\n"
     ]
    }
   ],
   "source": [
    "# Solución\n",
    "\n",
    "import pandas as pd\n",
    "\n",
    "dfautos = pd.read_csv(\"neoauto_20240924.csv\")\n",
    "\n",
    "promedio_precio = dfautos.groupby(['item_brand', 'item_category_2'])['item_price'].mean().reset_index()\n",
    "\n",
    "# Mostrar la información obtenida en un dataframe nuevo\n",
    "print(promedio_precio)"
   ]
  },
  {
   "cell_type": "markdown",
   "metadata": {},
   "source": [
    "2. ¿Cuántos autos tienen más de 100,000 kilómetros (`item_km`) pero un precio (`item_price`) menor al promedio general?"
   ]
  },
  {
   "cell_type": "code",
   "execution_count": 9,
   "metadata": {},
   "outputs": [
    {
     "name": "stdout",
     "output_type": "stream",
     "text": [
      "497\n"
     ]
    }
   ],
   "source": [
    "# Solución\n",
    "\n",
    "precio_promedio = dfautos['item_price'].mean() # Promedio general\n",
    "\n",
    "autos_filtrados = dfautos[(dfautos['item_km'] > 100000) & (dfautos['item_price'] < precio_promedio)] # Haciendo el filtro\n",
    "\n",
    "numero_autos = autos_filtrados.shape[0] # Hallando el número\n",
    "\n",
    "print(numero_autos)"
   ]
  },
  {
   "cell_type": "markdown",
   "metadata": {},
   "source": [
    "3. Encuentra el modelo (`item_name`) más caro y el más barato de cada marca (`item_brand`)."
   ]
  },
  {
   "cell_type": "code",
   "execution_count": 11,
   "metadata": {},
   "outputs": [
    {
     "name": "stdout",
     "output_type": "stream",
     "text": [
      "      item_brand             item_name_max  item_price_max  \\\n",
      "0     ALFA-ROMEO       alfa-romeo 147 2006          8500.0   \n",
      "1   ASTON MARTIN     aston martin dbx 2021        229000.0   \n",
      "2           AUDI            audi rs 6 2024        220000.0   \n",
      "3         AUSTIN   austin mini cooper 1970             1.0   \n",
      "4           BAIC             baic x55 2021         12800.0   \n",
      "..           ...                       ...             ...   \n",
      "68           SWM          swm g05 pro 2022         14000.0   \n",
      "69        TOYOTA         toyota hilux 2019        100000.0   \n",
      "70       TRIUMPH         triumph tr-7 1971         18900.0   \n",
      "71    VOLKSWAGEN  volkswagen teramont 2023         48900.0   \n",
      "72         VOLVO          volvo xc-90 2023         84990.0   \n",
      "\n",
      "                     item_name_min  item_price_min  \n",
      "0          alfa-romeo alfasud 1982          2500.0  \n",
      "1           aston martin db11 2017        149900.0  \n",
      "2               audi a3 sedan 2015             0.0  \n",
      "3          austin mini cooper 1970             1.0  \n",
      "4                   baic plus 2018          7500.0  \n",
      "..                             ...             ...  \n",
      "68                swm g05 pro 2022         14000.0  \n",
      "69  toyota land cruiser prado 2011             0.0  \n",
      "70               triumph tr-7 1971         18900.0  \n",
      "71            volkswagen bora 2015             0.0  \n",
      "72            volvo 850 turbo 1995          2100.0  \n",
      "\n",
      "[73 rows x 5 columns]\n"
     ]
    }
   ],
   "source": [
    "# Solución\n",
    "\n",
    "# Hallando los máximos y mínimos de cada marca y anexándolos a nuevos dataframe\n",
    "max_precio = dfautos.loc[dfautos.groupby('item_brand')['item_price'].idxmax()][['item_brand', 'item_name', 'item_price']]\n",
    "min_precio = dfautos.loc[dfautos.groupby('item_brand')['item_price'].idxmin()][['item_brand', 'item_name', 'item_price']]\n",
    "\n",
    "# Unir los dataframes para obtener el resultado final\n",
    "resultados = pd.merge(max_precio, min_precio, on='item_brand', suffixes=('_max', '_min'))\n",
    "\n",
    "print(resultados)\n"
   ]
  },
  {
   "cell_type": "markdown",
   "metadata": {},
   "source": [
    "4. Encuentra las tres marcas con mayor número de autos financiados por Santander (`item_financed_by`). "
   ]
  },
  {
   "cell_type": "code",
   "execution_count": 12,
   "metadata": {},
   "outputs": [
    {
     "name": "stdout",
     "output_type": "stream",
     "text": [
      "item_brand\n",
      "BMW       296\n",
      "TOYOTA    261\n",
      "NISSAN    228\n",
      "Name: count, dtype: int64\n"
     ]
    }
   ],
   "source": [
    "# Solución\n",
    "\n",
    "autos_financiados_santander = dfautos[dfautos['item_financed_by'] == 'Santander']\n",
    "\n",
    "conteo_marcas = autos_financiados_santander['item_brand'].value_counts()\n",
    "\n",
    "print(conteo_marcas.head(3))"
   ]
  },
  {
   "cell_type": "markdown",
   "metadata": {},
   "source": [
    "5. Agrupa las publicaciones por tipo de transmisión (`item_transmission`) y calcula la desviación estándar del precio (`item_price`) para cada tipo.  "
   ]
  },
  {
   "cell_type": "code",
   "execution_count": 15,
   "metadata": {},
   "outputs": [
    {
     "data": {
      "text/html": [
       "<div>\n",
       "<style scoped>\n",
       "    .dataframe tbody tr th:only-of-type {\n",
       "        vertical-align: middle;\n",
       "    }\n",
       "\n",
       "    .dataframe tbody tr th {\n",
       "        vertical-align: top;\n",
       "    }\n",
       "\n",
       "    .dataframe thead th {\n",
       "        text-align: right;\n",
       "    }\n",
       "</style>\n",
       "<table border=\"1\" class=\"dataframe\">\n",
       "  <thead>\n",
       "    <tr style=\"text-align: right;\">\n",
       "      <th></th>\n",
       "      <th>item_transmission</th>\n",
       "      <th>sd_itemprice</th>\n",
       "    </tr>\n",
       "  </thead>\n",
       "  <tbody>\n",
       "    <tr>\n",
       "      <th>0</th>\n",
       "      <td>Automática</td>\n",
       "      <td>15332.729048</td>\n",
       "    </tr>\n",
       "    <tr>\n",
       "      <th>1</th>\n",
       "      <td>Automática - Secuencial</td>\n",
       "      <td>22678.641589</td>\n",
       "    </tr>\n",
       "    <tr>\n",
       "      <th>2</th>\n",
       "      <td>Mecánica</td>\n",
       "      <td>8137.122127</td>\n",
       "    </tr>\n",
       "  </tbody>\n",
       "</table>\n",
       "</div>"
      ],
      "text/plain": [
       "         item_transmission  sd_itemprice\n",
       "0               Automática  15332.729048\n",
       "1  Automática - Secuencial  22678.641589\n",
       "2                 Mecánica   8137.122127"
      ]
     },
     "execution_count": 15,
     "metadata": {},
     "output_type": "execute_result"
    }
   ],
   "source": [
    "# Solución\n",
    "\n",
    "dfautos.groupby('item_transmission')['item_price'].std().reset_index().rename(columns={'item_price': 'sd_itemprice'})"
   ]
  },
  {
   "cell_type": "markdown",
   "metadata": {},
   "source": [
    "6. ¿Cuál es el kilometraje promedio de las publicaciones con el tag \"Premium\" y de las publicaciones con el tag \"Como nuevo\"?"
   ]
  },
  {
   "cell_type": "code",
   "execution_count": 17,
   "metadata": {},
   "outputs": [
    {
     "data": {
      "text/html": [
       "<div>\n",
       "<style scoped>\n",
       "    .dataframe tbody tr th:only-of-type {\n",
       "        vertical-align: middle;\n",
       "    }\n",
       "\n",
       "    .dataframe tbody tr th {\n",
       "        vertical-align: top;\n",
       "    }\n",
       "\n",
       "    .dataframe thead th {\n",
       "        text-align: right;\n",
       "    }\n",
       "</style>\n",
       "<table border=\"1\" class=\"dataframe\">\n",
       "  <thead>\n",
       "    <tr style=\"text-align: right;\">\n",
       "      <th></th>\n",
       "      <th>item_tag</th>\n",
       "      <th>item_km</th>\n",
       "    </tr>\n",
       "  </thead>\n",
       "  <tbody>\n",
       "    <tr>\n",
       "      <th>0</th>\n",
       "      <td>Como nuevo</td>\n",
       "      <td>35963.476190</td>\n",
       "    </tr>\n",
       "    <tr>\n",
       "      <th>1</th>\n",
       "      <td>Premium</td>\n",
       "      <td>48400.235897</td>\n",
       "    </tr>\n",
       "  </tbody>\n",
       "</table>\n",
       "</div>"
      ],
      "text/plain": [
       "     item_tag       item_km\n",
       "0  Como nuevo  35963.476190\n",
       "1     Premium  48400.235897"
      ]
     },
     "execution_count": 17,
     "metadata": {},
     "output_type": "execute_result"
    }
   ],
   "source": [
    "# Solución\n",
    "dfautos[dfautos['item_tag'].isin(['Premium', 'Como nuevo'])].groupby('item_tag')['item_km'].mean().reset_index()"
   ]
  },
  {
   "cell_type": "markdown",
   "metadata": {},
   "source": [
    "7. ¿Cuáles son las marcas de vehículas para los que todos sus modelos fabricados en los últimos 5 años tienen al menos 5 publicaciones cada una?"
   ]
  },
  {
   "cell_type": "code",
   "execution_count": 20,
   "metadata": {},
   "outputs": [
    {
     "name": "stdout",
     "output_type": "stream",
     "text": [
      "[]\n"
     ]
    }
   ],
   "source": [
    "# Solución\n",
    "\n",
    "from datetime import datetime\n",
    "\n",
    "anio_actual = datetime.now().year\n",
    "\n",
    "dfautos_recientes = dfautos[dfautos['item_year'] >= anio_actual - 5]\n",
    "\n",
    "conteo_publicaciones = dfautos_recientes.groupby(['item_brand', 'item_name']).size()\n",
    "\n",
    "modelos_filtrados = conteo_publicaciones[conteo_publicaciones >= 5]\n",
    "\n",
    "marcas_validas = []\n",
    "for marca, grupo in dfautos_recientes.groupby('item_brand'):\n",
    "    \n",
    "    modelos_marca = grupo['item_name'].unique()\n",
    "    publicaciones_modelos = conteo_publicaciones[conteo_publicaciones.index.get_level_values('item_brand') == marca]\n",
    "    \n",
    "    if all(publicaciones_modelos >= 5):\n",
    "        marcas_validas.append(marca)\n",
    "\n",
    "print(marcas_validas)"
   ]
  },
  {
   "cell_type": "markdown",
   "metadata": {},
   "source": [
    "## **Evolución económica internacional**"
   ]
  },
  {
   "cell_type": "markdown",
   "metadata": {},
   "source": [
    "Importa el conjunto de datos de la hoja \"Data\" del archivo `pwt1001.xlsx`. El diccionario de variables está disponible en la hoja \"Legend\" del archivo Excel.\n",
    "    "
   ]
  },
  {
   "cell_type": "markdown",
   "metadata": {},
   "source": [
    "1. Calcule el PBI per cápita real ajustado por poder de paridad de compra (PPP). Use la variable de PBI que se calcula por gasto y la población. ¿Cuáles son los 10 países top?"
   ]
  },
  {
   "cell_type": "code",
   "execution_count": 1,
   "metadata": {},
   "outputs": [
    {
     "name": "stdout",
     "output_type": "stream",
     "text": [
      "                    country            ppp\n",
      "7209             Luxembourg  112941.453342\n",
      "7349       China, Macao SAR  105337.890061\n",
      "9799                  Qatar  103445.127269\n",
      "5599                Ireland  102353.631443\n",
      "10289             Singapore   88619.305271\n",
      "1609                Bermuda   79967.588736\n",
      "2239            Switzerland   71831.637057\n",
      "3079         Cayman Islands   70208.345162\n",
      "349    United Arab Emirates   69753.215256\n",
      "1889      Brunei Darussalam   67555.392597\n"
     ]
    }
   ],
   "source": [
    "# Solución\n",
    "\n",
    "# Cargamos los datos\n",
    "import pandas as pd\n",
    "df = pd.read_excel(\"pwt1001.xlsx\", sheet_name=\"Data\")\n",
    "\n",
    "# Calcular el PPP\n",
    "df['ppp'] = df['rgdpe'] / (df['pop'])\n",
    "\n",
    "#tomar el ultimo año\n",
    "df = df.sort_values('year', ascending=False).drop_duplicates('countrycode')\n",
    "\n",
    "# Ordenar los 10 primeros\n",
    "df_top10 = df.sort_values('ppp', ascending=False).head(10)     \n",
    "print(df_top10[['country', 'ppp']])"
   ]
  },
  {
   "cell_type": "markdown",
   "metadata": {},
   "source": [
    "2. Genera el ránking de los países con el mayor incremento del PBI per cápita real PPP entre los años 1990 y 2019. ¿Dónde se ubica Perú? Para los países que no tengan información para dichos años, puede utilizar datos provenientes de hasta dos años antes o después"
   ]
  },
  {
   "cell_type": "code",
   "execution_count": 2,
   "metadata": {},
   "outputs": [
    {
     "name": "stderr",
     "output_type": "stream",
     "text": [
      "C:\\Users\\Jose Antonio\\AppData\\Local\\Temp\\ipykernel_13508\\2262902863.py:3: FutureWarning: DataFrame.fillna with 'method' is deprecated and will raise in a future version. Use obj.ffill() or obj.bfill() instead.\n",
      "  df_2 = df_2.fillna(method=\"bfill\")\n"
     ]
    },
    {
     "data": {
      "text/html": [
       "<div>\n",
       "<style scoped>\n",
       "    .dataframe tbody tr th:only-of-type {\n",
       "        vertical-align: middle;\n",
       "    }\n",
       "\n",
       "    .dataframe tbody tr th {\n",
       "        vertical-align: top;\n",
       "    }\n",
       "\n",
       "    .dataframe thead th {\n",
       "        text-align: right;\n",
       "    }\n",
       "</style>\n",
       "<table border=\"1\" class=\"dataframe\">\n",
       "  <thead>\n",
       "    <tr style=\"text-align: right;\">\n",
       "      <th></th>\n",
       "      <th>country</th>\n",
       "      <th>pbi_per_capita_1990</th>\n",
       "      <th>pbi_per_capita_2019</th>\n",
       "      <th>incremento_pbi_per_capita</th>\n",
       "    </tr>\n",
       "  </thead>\n",
       "  <tbody>\n",
       "    <tr>\n",
       "      <th>79</th>\n",
       "      <td>Ireland</td>\n",
       "      <td>19626.917875</td>\n",
       "      <td>102353.631443</td>\n",
       "      <td>82726.713568</td>\n",
       "    </tr>\n",
       "    <tr>\n",
       "      <th>104</th>\n",
       "      <td>China, Macao SAR</td>\n",
       "      <td>26549.065903</td>\n",
       "      <td>105337.890061</td>\n",
       "      <td>78788.824158</td>\n",
       "    </tr>\n",
       "    <tr>\n",
       "      <th>139</th>\n",
       "      <td>Qatar</td>\n",
       "      <td>28000.258728</td>\n",
       "      <td>103445.127269</td>\n",
       "      <td>75444.868541</td>\n",
       "    </tr>\n",
       "    <tr>\n",
       "      <th>146</th>\n",
       "      <td>Singapore</td>\n",
       "      <td>21527.149763</td>\n",
       "      <td>88619.305271</td>\n",
       "      <td>67092.155508</td>\n",
       "    </tr>\n",
       "    <tr>\n",
       "      <th>102</th>\n",
       "      <td>Luxembourg</td>\n",
       "      <td>45944.414778</td>\n",
       "      <td>112941.453342</td>\n",
       "      <td>66997.038564</td>\n",
       "    </tr>\n",
       "    <tr>\n",
       "      <th>22</th>\n",
       "      <td>Bermuda</td>\n",
       "      <td>31735.779793</td>\n",
       "      <td>79967.588736</td>\n",
       "      <td>48231.808944</td>\n",
       "    </tr>\n",
       "    <tr>\n",
       "      <th>112</th>\n",
       "      <td>Malta</td>\n",
       "      <td>14790.949022</td>\n",
       "      <td>50759.083017</td>\n",
       "      <td>35968.133995</td>\n",
       "    </tr>\n",
       "    <tr>\n",
       "      <th>127</th>\n",
       "      <td>Norway</td>\n",
       "      <td>28445.726947</td>\n",
       "      <td>62544.032357</td>\n",
       "      <td>34098.305410</td>\n",
       "    </tr>\n",
       "    <tr>\n",
       "      <th>94</th>\n",
       "      <td>Kuwait</td>\n",
       "      <td>21887.202650</td>\n",
       "      <td>55942.795608</td>\n",
       "      <td>34055.592958</td>\n",
       "    </tr>\n",
       "    <tr>\n",
       "      <th>143</th>\n",
       "      <td>Saudi Arabia</td>\n",
       "      <td>18205.485504</td>\n",
       "      <td>51199.350465</td>\n",
       "      <td>32993.864961</td>\n",
       "    </tr>\n",
       "  </tbody>\n",
       "</table>\n",
       "</div>"
      ],
      "text/plain": [
       "              country  pbi_per_capita_1990  pbi_per_capita_2019  \\\n",
       "79            Ireland         19626.917875        102353.631443   \n",
       "104  China, Macao SAR         26549.065903        105337.890061   \n",
       "139             Qatar         28000.258728        103445.127269   \n",
       "146         Singapore         21527.149763         88619.305271   \n",
       "102        Luxembourg         45944.414778        112941.453342   \n",
       "22            Bermuda         31735.779793         79967.588736   \n",
       "112             Malta         14790.949022         50759.083017   \n",
       "127            Norway         28445.726947         62544.032357   \n",
       "94             Kuwait         21887.202650         55942.795608   \n",
       "143      Saudi Arabia         18205.485504         51199.350465   \n",
       "\n",
       "     incremento_pbi_per_capita  \n",
       "79                82726.713568  \n",
       "104               78788.824158  \n",
       "139               75444.868541  \n",
       "146               67092.155508  \n",
       "102               66997.038564  \n",
       "22                48231.808944  \n",
       "112               35968.133995  \n",
       "127               34098.305410  \n",
       "94                34055.592958  \n",
       "143               32993.864961  "
      ]
     },
     "execution_count": 2,
     "metadata": {},
     "output_type": "execute_result"
    }
   ],
   "source": [
    "# Solución\n",
    "df_2 = pd.read_excel(\"pwt1001.xlsx\", sheet_name=\"Data\")\n",
    "df_2 = df_2.fillna(method=\"bfill\")\n",
    "df_2['pbi_per_capita_1'] = df_2['rgdpe'] / df_2['pop']\n",
    "\n",
    "# Filtrar datos\n",
    "df_1990 = df_2[df_2['year'] == 1990][['country', 'pbi_per_capita_1']].rename(columns={\"pbi_per_capita_1\": \"pbi_per_capita_1990\"})\n",
    "df_2019 = df_2[df_2['year'] == 2019][['country', 'pbi_per_capita_1']].rename(columns={\"pbi_per_capita_1\": \"pbi_per_capita_2019\"})\n",
    "\n",
    "# Combinar datos\n",
    "df_2 = pd.merge(df_1990, df_2019, on=\"country\", how=\"inner\")\n",
    "\n",
    "# Incremento\n",
    "df_2['incremento_pbi_per_capita'] = df_2['pbi_per_capita_2019'] - df_2['pbi_per_capita_1990']\n",
    "\n",
    "# Ordenar por el mayor incremento\n",
    "df_2 = df_2.sort_values(by=\"incremento_pbi_per_capita\", ascending=False)\n",
    "df_2.head(10)\n"
   ]
  },
  {
   "cell_type": "markdown",
   "metadata": {},
   "source": [
    "3. Para el periodo 2010-2019, calcule el promedio del índice del capital humano. ¿Qué relación existe entre esta variable y el PBI per cápita real PPP calculado previamente? ¿y el número de horas laboradas al año por los trabajadores?"
   ]
  },
  {
   "cell_type": "code",
   "execution_count": 3,
   "metadata": {},
   "outputs": [
    {
     "name": "stdout",
     "output_type": "stream",
     "text": [
      "               country  promedio_hc_2010_2019  promedio_pib_per_capita_ppp  \\\n",
      "0              Albania               2.934304                 11029.751620   \n",
      "1              Algeria               2.207947                 12797.237930   \n",
      "2               Angola               1.449344                  7627.644937   \n",
      "3             Anguilla               2.608130                 27167.015652   \n",
      "4  Antigua and Barbuda               2.608130                 20046.143125   \n",
      "5            Argentina               2.961662                 21492.060853   \n",
      "6              Armenia               3.123577                 10879.322226   \n",
      "7                Aruba               2.608130                 38145.486904   \n",
      "8            Australia               3.489004                 49392.158049   \n",
      "9              Austria               3.331753                 51477.323055   \n",
      "\n",
      "   promedio_horas_laboradas  \n",
      "0               1873.344553  \n",
      "1               1873.344553  \n",
      "2               1873.344553  \n",
      "3               1873.344553  \n",
      "4               1873.344553  \n",
      "5               1693.416337  \n",
      "6               1873.344553  \n",
      "7               1873.344553  \n",
      "8               1746.412122  \n",
      "9               1629.475719  \n",
      "                             promedio_hc_2010_2019  \\\n",
      "promedio_hc_2010_2019                     1.000000   \n",
      "promedio_pib_per_capita_ppp               0.564069   \n",
      "promedio_horas_laboradas                 -0.287229   \n",
      "\n",
      "                             promedio_pib_per_capita_ppp  \\\n",
      "promedio_hc_2010_2019                           0.564069   \n",
      "promedio_pib_per_capita_ppp                     1.000000   \n",
      "promedio_horas_laboradas                       -0.289015   \n",
      "\n",
      "                             promedio_horas_laboradas  \n",
      "promedio_hc_2010_2019                       -0.287229  \n",
      "promedio_pib_per_capita_ppp                 -0.289015  \n",
      "promedio_horas_laboradas                     1.000000  \n"
     ]
    }
   ],
   "source": [
    "# Solución\n",
    "df_2 = pd.read_excel(\"pwt1001.xlsx\", sheet_name=\"Data\")\n",
    "\n",
    "# Filtrar los datos\n",
    "df_2_filt = df_2[(df_2['year'] >= 2010) & (df_2['year'] <= 2019)].copy()\n",
    "\n",
    "# Manejar missings\n",
    "df_2_filt['hc'] = df_2_filt['hc'].fillna(df_2_filt['hc'].mean())\n",
    "df_2_filt['avh'] = df_2_filt['avh'].fillna(df_2_filt['avh'].mean())\n",
    "\n",
    "# Calcular PPP\n",
    "df_2_filt.loc[:, 'pib_per_capita_ppp'] = df_2_filt['rgdpe'] / df_2_filt['pop']\n",
    "\n",
    "# Calcular promedios\n",
    "promedio_hc = df_2_filt.groupby('country')['hc'].mean().reset_index()\n",
    "promedio_hc.rename(columns={'hc': 'promedio_hc_2010_2019'}, inplace=True)\n",
    "promedio_pib = df_2_filt.groupby('country')['pib_per_capita_ppp'].mean().reset_index()\n",
    "promedio_horas = df_2_filt.groupby('country')['avh'].mean().reset_index()\n",
    "\n",
    "# Combinar todo\n",
    "relacion = promedio_hc.merge(promedio_pib, on='country').merge(promedio_horas, on='country')\n",
    "\n",
    "# Renombrar columnas\n",
    "relacion.rename(columns={'pib_per_capita_ppp': 'promedio_pib_per_capita_ppp',\n",
    "                         'avh': 'promedio_horas_laboradas'}, inplace=True)\n",
    "\n",
    "#Primeros resultados\n",
    "print(relacion.head(10))\n",
    "\n",
    "# Explorar relación\n",
    "correlaciones = relacion[['promedio_hc_2010_2019', 'promedio_pib_per_capita_ppp', 'promedio_horas_laboradas']].corr()\n",
    "print(correlaciones)"
   ]
  },
  {
   "cell_type": "markdown",
   "metadata": {},
   "source": [
    "4. A partir de la variable del precio de los hogares, calcula los países y los años en los cuales se registró la mayor inflación anual para todo el periodo de tiempo disponible en la base de datos"
   ]
  },
  {
   "cell_type": "code",
   "execution_count": 18,
   "metadata": {},
   "outputs": [
    {
     "name": "stdout",
     "output_type": "stream",
     "text": [
      "                                  country  year  inflacion_anual\n",
      "12387  Venezuela (Bolivarian Republic of)  2017       360.890723\n",
      "4742                    Equatorial Guinea  2002       174.837577\n",
      "12795                            Zimbabwe  2005       166.320309\n",
      "304                  United Arab Emirates  1974       148.351099\n",
      "10034                        Saudi Arabia  1974       146.868541\n",
      "...                                   ...   ...              ...\n",
      "12134                       United States  1974        10.113069\n",
      "11181            Turks and Caicos Islands  2001         8.606866\n",
      "58                                  Aruba  2008         7.424463\n",
      "2998                              Curaçao  2008         5.958649\n",
      "10989           Sint Maarten (Dutch part)  2019         5.164641\n",
      "\n",
      "[183 rows x 3 columns]\n"
     ]
    }
   ],
   "source": [
    "# Solución\n",
    "\n",
    "# Calcular la inflación anual\n",
    "df_2['inflacion_anual'] = df_2.groupby('country')['pl_con'].pct_change(fill_method=None) * 100\n",
    "\n",
    "# Filtrar los países y años con la mayor inflación\n",
    "mayor_inf = df_2.loc[df_2.groupby('country')['inflacion_anual'].idxmax(), ['country', 'year', 'inflacion_anual']]\n",
    "\n",
    "# Ordenar\n",
    "mayor_inf = mayor_inf.sort_values(by='inflacion_anual', ascending=False)\n",
    "print(mayor_inf)\n"
   ]
  },
  {
   "cell_type": "markdown",
   "metadata": {},
   "source": [
    "5. ¿Cuáles son los países con la mayor cantidad de missing values en la variable de productividad total de factores a precios corrientes?"
   ]
  },
  {
   "cell_type": "code",
   "execution_count": 17,
   "metadata": {},
   "outputs": [
    {
     "name": "stdout",
     "output_type": "stream",
     "text": [
      "                   country  missing_count\n",
      "0                  Albania             70\n",
      "1                  Algeria             70\n",
      "3                 Anguilla             70\n",
      "4      Antigua and Barbuda             70\n",
      "13              Bangladesh             70\n",
      "10              Azerbaijan             70\n",
      "7                    Aruba             70\n",
      "22  Bosnia and Herzegovina             70\n",
      "20                  Bhutan             70\n",
      "17                  Belize             70\n"
     ]
    }
   ],
   "source": [
    "# Solución\n",
    "missing = df_2.groupby('country')['ctfp'].apply(lambda x: x.isna().sum()).reset_index()\n",
    "\n",
    "# Renombrar columna\n",
    "missing.rename(columns={'ctfp': 'missing_count'}, inplace=True)\n",
    "\n",
    "# Ordenar los países\n",
    "missing = missing.sort_values(by='missing_count', ascending=False)\n",
    "\n",
    "# Mostrar los países\n",
    "print(missing.head(10))"
   ]
  },
  {
   "cell_type": "markdown",
   "metadata": {},
   "source": [
    "6.  Agrupa los datos por país y calcula el promedio de las horas trabajadas anuales (avh) y de la educación promedio (hc) para el periodo 2000-2020."
   ]
  },
  {
   "cell_type": "code",
   "execution_count": 9,
   "metadata": {},
   "outputs": [
    {
     "data": {
      "text/html": [
       "<div>\n",
       "<style scoped>\n",
       "    .dataframe tbody tr th:only-of-type {\n",
       "        vertical-align: middle;\n",
       "    }\n",
       "\n",
       "    .dataframe tbody tr th {\n",
       "        vertical-align: top;\n",
       "    }\n",
       "\n",
       "    .dataframe thead th {\n",
       "        text-align: right;\n",
       "    }\n",
       "</style>\n",
       "<table border=\"1\" class=\"dataframe\">\n",
       "  <thead>\n",
       "    <tr style=\"text-align: right;\">\n",
       "      <th></th>\n",
       "      <th>countrycode</th>\n",
       "      <th>country</th>\n",
       "      <th>currency_unit</th>\n",
       "      <th>year</th>\n",
       "      <th>rgdpe</th>\n",
       "      <th>rgdpo</th>\n",
       "      <th>pop</th>\n",
       "      <th>emp</th>\n",
       "      <th>avh</th>\n",
       "      <th>hc</th>\n",
       "      <th>...</th>\n",
       "      <th>csh_m</th>\n",
       "      <th>csh_r</th>\n",
       "      <th>pl_c</th>\n",
       "      <th>pl_i</th>\n",
       "      <th>pl_g</th>\n",
       "      <th>pl_x</th>\n",
       "      <th>pl_m</th>\n",
       "      <th>pl_n</th>\n",
       "      <th>pl_k</th>\n",
       "      <th>inflacion_anual</th>\n",
       "    </tr>\n",
       "  </thead>\n",
       "  <tbody>\n",
       "    <tr>\n",
       "      <th>50</th>\n",
       "      <td>ABW</td>\n",
       "      <td>Aruba</td>\n",
       "      <td>Aruban Guilder</td>\n",
       "      <td>2000</td>\n",
       "      <td>4031.134277</td>\n",
       "      <td>4129.512695</td>\n",
       "      <td>0.090853</td>\n",
       "      <td>0.041900</td>\n",
       "      <td>NaN</td>\n",
       "      <td>NaN</td>\n",
       "      <td>...</td>\n",
       "      <td>-0.675893</td>\n",
       "      <td>-0.022756</td>\n",
       "      <td>0.544148</td>\n",
       "      <td>0.364808</td>\n",
       "      <td>0.569621</td>\n",
       "      <td>0.421769</td>\n",
       "      <td>0.479504</td>\n",
       "      <td>0.339565</td>\n",
       "      <td>0.830465</td>\n",
       "      <td>4.621669</td>\n",
       "    </tr>\n",
       "    <tr>\n",
       "      <th>51</th>\n",
       "      <td>ABW</td>\n",
       "      <td>Aruba</td>\n",
       "      <td>Aruban Guilder</td>\n",
       "      <td>2001</td>\n",
       "      <td>4122.958496</td>\n",
       "      <td>4728.453125</td>\n",
       "      <td>0.092898</td>\n",
       "      <td>0.042808</td>\n",
       "      <td>NaN</td>\n",
       "      <td>NaN</td>\n",
       "      <td>...</td>\n",
       "      <td>-0.626023</td>\n",
       "      <td>-0.010782</td>\n",
       "      <td>0.548881</td>\n",
       "      <td>0.336240</td>\n",
       "      <td>0.608278</td>\n",
       "      <td>0.377714</td>\n",
       "      <td>0.466912</td>\n",
       "      <td>0.315414</td>\n",
       "      <td>0.821823</td>\n",
       "      <td>2.322797</td>\n",
       "    </tr>\n",
       "    <tr>\n",
       "      <th>52</th>\n",
       "      <td>ABW</td>\n",
       "      <td>Aruba</td>\n",
       "      <td>Aruban Guilder</td>\n",
       "      <td>2002</td>\n",
       "      <td>4101.703125</td>\n",
       "      <td>3555.261230</td>\n",
       "      <td>0.094992</td>\n",
       "      <td>0.043736</td>\n",
       "      <td>NaN</td>\n",
       "      <td>NaN</td>\n",
       "      <td>...</td>\n",
       "      <td>-0.819539</td>\n",
       "      <td>-0.003255</td>\n",
       "      <td>0.568648</td>\n",
       "      <td>0.336211</td>\n",
       "      <td>0.615146</td>\n",
       "      <td>0.503704</td>\n",
       "      <td>0.463264</td>\n",
       "      <td>0.318944</td>\n",
       "      <td>0.734359</td>\n",
       "      <td>2.990286</td>\n",
       "    </tr>\n",
       "    <tr>\n",
       "      <th>53</th>\n",
       "      <td>ABW</td>\n",
       "      <td>Aruba</td>\n",
       "      <td>Aruban Guilder</td>\n",
       "      <td>2003</td>\n",
       "      <td>4209.140137</td>\n",
       "      <td>3701.983643</td>\n",
       "      <td>0.097017</td>\n",
       "      <td>0.044632</td>\n",
       "      <td>NaN</td>\n",
       "      <td>NaN</td>\n",
       "      <td>...</td>\n",
       "      <td>-0.795562</td>\n",
       "      <td>-0.002240</td>\n",
       "      <td>0.591519</td>\n",
       "      <td>0.346326</td>\n",
       "      <td>0.584422</td>\n",
       "      <td>0.532451</td>\n",
       "      <td>0.491250</td>\n",
       "      <td>0.315550</td>\n",
       "      <td>0.672940</td>\n",
       "      <td>1.833795</td>\n",
       "    </tr>\n",
       "    <tr>\n",
       "      <th>54</th>\n",
       "      <td>ABW</td>\n",
       "      <td>Aruba</td>\n",
       "      <td>Aruban Guilder</td>\n",
       "      <td>2004</td>\n",
       "      <td>4548.991211</td>\n",
       "      <td>4227.812012</td>\n",
       "      <td>0.098737</td>\n",
       "      <td>0.045385</td>\n",
       "      <td>NaN</td>\n",
       "      <td>NaN</td>\n",
       "      <td>...</td>\n",
       "      <td>-0.743200</td>\n",
       "      <td>-0.008779</td>\n",
       "      <td>0.608234</td>\n",
       "      <td>0.355328</td>\n",
       "      <td>0.591757</td>\n",
       "      <td>0.517250</td>\n",
       "      <td>0.501850</td>\n",
       "      <td>0.318468</td>\n",
       "      <td>0.648683</td>\n",
       "      <td>2.462345</td>\n",
       "    </tr>\n",
       "  </tbody>\n",
       "</table>\n",
       "<p>5 rows × 53 columns</p>\n",
       "</div>"
      ],
      "text/plain": [
       "   countrycode country   currency_unit  year        rgdpe        rgdpo  \\\n",
       "50         ABW   Aruba  Aruban Guilder  2000  4031.134277  4129.512695   \n",
       "51         ABW   Aruba  Aruban Guilder  2001  4122.958496  4728.453125   \n",
       "52         ABW   Aruba  Aruban Guilder  2002  4101.703125  3555.261230   \n",
       "53         ABW   Aruba  Aruban Guilder  2003  4209.140137  3701.983643   \n",
       "54         ABW   Aruba  Aruban Guilder  2004  4548.991211  4227.812012   \n",
       "\n",
       "         pop       emp  avh  hc  ...     csh_m     csh_r      pl_c      pl_i  \\\n",
       "50  0.090853  0.041900  NaN NaN  ... -0.675893 -0.022756  0.544148  0.364808   \n",
       "51  0.092898  0.042808  NaN NaN  ... -0.626023 -0.010782  0.548881  0.336240   \n",
       "52  0.094992  0.043736  NaN NaN  ... -0.819539 -0.003255  0.568648  0.336211   \n",
       "53  0.097017  0.044632  NaN NaN  ... -0.795562 -0.002240  0.591519  0.346326   \n",
       "54  0.098737  0.045385  NaN NaN  ... -0.743200 -0.008779  0.608234  0.355328   \n",
       "\n",
       "        pl_g      pl_x      pl_m      pl_n      pl_k  inflacion_anual  \n",
       "50  0.569621  0.421769  0.479504  0.339565  0.830465         4.621669  \n",
       "51  0.608278  0.377714  0.466912  0.315414  0.821823         2.322797  \n",
       "52  0.615146  0.503704  0.463264  0.318944  0.734359         2.990286  \n",
       "53  0.584422  0.532451  0.491250  0.315550  0.672940         1.833795  \n",
       "54  0.591757  0.517250  0.501850  0.318468  0.648683         2.462345  \n",
       "\n",
       "[5 rows x 53 columns]"
      ]
     },
     "execution_count": 9,
     "metadata": {},
     "output_type": "execute_result"
    }
   ],
   "source": [
    "# Solución\n",
    "\n",
    "df_periodo_2000_2020 = df_2[(df_2['year'] >= 2000) & (df_2['year'] <= 2020)]\n",
    "\n",
    "average_data = df_periodo_2000_2020.groupby('country', as_index=False).agg(\n",
    "    avg_hours_worked=('avh', 'mean'),\n",
    "    avg_education=('hc', 'mean')\n",
    ")\n",
    "\n",
    "df_periodo_2000_2020.head()"
   ]
  },
  {
   "cell_type": "markdown",
   "metadata": {},
   "source": [
    "7.  Genere una variable que ordene a los países según el porcetaje de formación brutal de capital del 2019. Luego, estable diez grupos a manera de deciles. ¿En qué decil se ubica Péru? Vuelva a calcular usando la información de 1990. ¿El Perú se mantiene en el mismo décil o cambia?"
   ]
  },
  {
   "cell_type": "code",
   "execution_count": 16,
   "metadata": {},
   "outputs": [
    {
     "name": "stdout",
     "output_type": "stream",
     "text": [
      "Decil 1990: 4.0, Decil 2019: 5\n"
     ]
    }
   ],
   "source": [
    "# Solución\n",
    "\n",
    "# Filtrar datos para 2019\n",
    "df_2019 = df_2[df_2['year'] == 2019].copy()\n",
    "df_2019['deciles_2019'] = pd.qcut(df_2019['csh_i'], 10, labels=False) + 1\n",
    "peru_decil_2019 = df_2019[df_2019['country'] == 'Peru']['deciles_2019'].values[0] if 'Peru' in df_2019['country'].values else None\n",
    "\n",
    "# Filtrar datos para 1990 \n",
    "df_1990 = df_2[df_2['year'] == 1990].copy()\n",
    "df_1990['deciles_1990'] = pd.qcut(df_1990['csh_i'], 10, labels=False) + 1\n",
    "peru_decil_1990 = df_1990[df_1990['country'] == 'Peru']['deciles_1990'].values[0] if 'Peru' in df_1990['country'].values else None\n",
    "\n",
    "# Resultados\n",
    "print(f\"Decil 1990: {peru_decil_1990}, Decil 2019: {peru_decil_2019}\")\n"
   ]
  },
  {
   "cell_type": "markdown",
   "metadata": {},
   "source": [
    "## **Transacciones Financieras**"
   ]
  },
  {
   "cell_type": "markdown",
   "metadata": {},
   "source": [
    "Importa el conjunto de datos `base_financiera.csv`\n",
    "    "
   ]
  },
  {
   "cell_type": "markdown",
   "metadata": {},
   "source": [
    "8. Filtra todas las transacciones de tipo \"Debit\" en las que el monto sea mayor a 200, y calcula el monto total de esas transacciones. Además, determina cuántos clientes únicos realizaron esas transacciones."
   ]
  },
  {
   "cell_type": "code",
   "execution_count": 10,
   "metadata": {},
   "outputs": [
    {
     "name": "stdout",
     "output_type": "stream",
     "text": [
      "Monto total de las transacciones: 2847871.75\n",
      "Número de clientes únicos: 200\n"
     ]
    }
   ],
   "source": [
    "# Solución\n",
    "\n",
    "import pandas as pd\n",
    "\n",
    "dffinance = pd.read_csv(\"base_financiera.csv\")\n",
    "\n",
    "transacciones_debit = dffinance[(dffinance['Transaction_Type'] == 'Debit') & (dffinance['Amount'] > 200)]\n",
    "\n",
    "# Calculamos el monto total de esas transacciones\n",
    "monto_total = transacciones_debit['Amount'].sum()\n",
    "\n",
    "# Determinamos cuántos clientes únicos realizaron esas transacciones\n",
    "clientes_unicos = transacciones_debit['Customer_ID'].nunique()\n",
    "\n",
    "# Mostrar los resultados\n",
    "print(f'Monto total de las transacciones: {monto_total}')\n",
    "print(f'Número de clientes únicos: {clientes_unicos}')"
   ]
  },
  {
   "cell_type": "markdown",
   "metadata": {},
   "source": [
    "9. Identifica las transacciones con valores nulos en la columna (`Amount`) . Rellena esos valores con la mediana de los montos por tipo de transacción (`Transaction_Type`) y luego calcula el monto total de transacciones por región (`region`) ."
   ]
  },
  {
   "cell_type": "code",
   "execution_count": 13,
   "metadata": {},
   "outputs": [
    {
     "name": "stdout",
     "output_type": "stream",
     "text": [
      "\n",
      "Monto total de transacciones por región:\n",
      "  Region      Amount\n",
      "0   East  1269409.53\n",
      "1  North  1321224.96\n",
      "2  South  1208300.23\n",
      "3   West  1233552.50\n"
     ]
    }
   ],
   "source": [
    "# Solución\n",
    "\n",
    "import pandas as pd\n",
    "\n",
    "transacciones_nulas = dffinance[dffinance['Amount'].isnull()]\n",
    "\n",
    "medianas_por_tipo = dffinance.groupby('Transaction_Type')['Amount'].median()\n",
    "\n",
    "# Función para rellenar los valores nulos con la mediana correspondiente\n",
    "def rellenar_nulos(row):\n",
    "    if pd.isnull(row['Amount']):\n",
    "        return medianas_por_tipo[row['Transaction_Type']]\n",
    "    else:\n",
    "        return row['Amount']\n",
    "\n",
    "dffinance['Amount'] = dffinance.apply(rellenar_nulos, axis=1)\n",
    "\n",
    "monto_total_por_region = dffinance.groupby('Region')['Amount'].sum().reset_index()\n",
    "\n",
    "print(\"\\nMonto total de transacciones por región:\")\n",
    "print(monto_total_por_region)"
   ]
  },
  {
   "cell_type": "markdown",
   "metadata": {},
   "source": [
    "10. Busca transacciones duplicadas considerando las columnas (`Customer_ID`) y (`Date`). Elimina los duplicados manteniendo solo la primera ocurrencia. Luego, agrupa las transacciones restantes por (`Customer_ID`) y calcula el monto promedio y la cantidad de transacciones por cliente."
   ]
  },
  {
   "cell_type": "code",
   "execution_count": 20,
   "metadata": {},
   "outputs": [
    {
     "name": "stdout",
     "output_type": "stream",
     "text": [
      "    Customer_ID  monto_promedio  cantidad_transacciones\n",
      "0          C001     3283.319412                      17\n",
      "1          C002     1881.827778                       9\n",
      "2          C003     3102.125000                      14\n",
      "3          C004     2879.267143                       7\n",
      "4          C005     3364.053333                       6\n",
      "..          ...             ...                     ...\n",
      "195        C196     2566.555000                      10\n",
      "196        C197     2530.674286                      14\n",
      "197        C198     2484.925000                      12\n",
      "198        C199     2942.038000                       5\n",
      "199        C200     2196.990000                       5\n",
      "\n",
      "[200 rows x 3 columns]\n"
     ]
    }
   ],
   "source": [
    "# Solución\n",
    "\n",
    "dffinance_sin_duplicados = dffinance.drop_duplicates(subset=['Customer_ID', 'Date'], keep='first')\n",
    "\n",
    "resultados = dffinance_sin_duplicados.groupby('Customer_ID').agg(\n",
    "    monto_promedio=('Amount', 'mean'),\n",
    "    cantidad_transacciones=('Amount', 'size')\n",
    ").reset_index()\n",
    "\n",
    "print(resultados)"
   ]
  }
 ],
 "metadata": {
  "hide_input": false,
  "kernelspec": {
   "display_name": "Python 3",
   "language": "python",
   "name": "python3"
  },
  "language_info": {
   "codemirror_mode": {
    "name": "ipython",
    "version": 3
   },
   "file_extension": ".py",
   "mimetype": "text/x-python",
   "name": "python",
   "nbconvert_exporter": "python",
   "pygments_lexer": "ipython3",
   "version": "3.13.0"
  },
  "toc": {
   "base_numbering": 1,
   "nav_menu": {},
   "number_sections": true,
   "sideBar": true,
   "skip_h1_title": false,
   "title_cell": "Table of Contents",
   "title_sidebar": "Contents",
   "toc_cell": false,
   "toc_position": {},
   "toc_section_display": true,
   "toc_window_display": false
  }
 },
 "nbformat": 4,
 "nbformat_minor": 4
}
