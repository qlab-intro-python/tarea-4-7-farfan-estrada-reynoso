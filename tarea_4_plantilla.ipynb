{
 "cells": [
  {
   "cell_type": "markdown",
   "metadata": {},
   "source": [
    "# **Tarea Nº 4**"
   ]
  },
  {
   "cell_type": "markdown",
   "metadata": {},
   "source": [
    "- Fecha y hora de entrega: Domingo 12 de enero, 11:59pm\n",
    "- Agregue los nombres de las personas con las que discutió esta tarea: __Rodrigo Farfan__\n",
    "- Envíe su tarea haciendo el `push` de su código a su repo en GitHub Classroom: "
   ]
  },
  {
   "cell_type": "markdown",
   "metadata": {},
   "source": [
    "## **Mercado de autos usados**"
   ]
  },
  {
   "cell_type": "markdown",
   "metadata": {},
   "source": [
    "Importa el conjunto de datos `neoauto_20240924.csv`\n",
    "    "
   ]
  },
  {
   "cell_type": "markdown",
   "metadata": {},
   "source": [
    "1. ¿Cuál es el precio promedio de los autos de cada marca (`item_brand`) publicados en cada subcategoría (`item_category_2`)?"
   ]
  },
  {
   "cell_type": "code",
   "execution_count": 7,
   "metadata": {},
   "outputs": [
    {
     "name": "stdout",
     "output_type": "stream",
     "text": [
      "       item_brand item_category_2     item_price\n",
      "0      ALFA-ROMEO       Hatchback    8500.000000\n",
      "1      ALFA-ROMEO           Sedan    2500.000000\n",
      "2    ASTON MARTIN  Camionetas Suv  229000.000000\n",
      "3    ASTON MARTIN       Deportivo  169990.000000\n",
      "4    ASTON MARTIN           Sedan  149900.000000\n",
      "..            ...             ...            ...\n",
      "197         VOLVO  Camionetas Suv   41801.707317\n",
      "198         VOLVO       Deportivo    8800.000000\n",
      "199         VOLVO       Hatchback   12772.500000\n",
      "200         VOLVO           Sedan   11458.333333\n",
      "201         VOLVO   Station Wagon    6100.000000\n",
      "\n",
      "[202 rows x 3 columns]\n"
     ]
    }
   ],
   "source": [
    "# Solución\n",
    "\n",
    "import pandas as pd\n",
    "\n",
    "dfautos = pd.read_csv(\"neoauto_20240924.csv\")\n",
    "\n",
    "promedio_precio = dfautos.groupby(['item_brand', 'item_category_2'])['item_price'].mean().reset_index()\n",
    "\n",
    "# Mostrar la información obtenida en un dataframe nuevo\n",
    "print(promedio_precio)"
   ]
  },
  {
   "cell_type": "markdown",
   "metadata": {},
   "source": [
    "2. ¿Cuántos autos tienen más de 100,000 kilómetros (`item_km`) pero un precio (`item_price`) menor al promedio general?"
   ]
  },
  {
   "cell_type": "code",
   "execution_count": 9,
   "metadata": {},
   "outputs": [
    {
     "name": "stdout",
     "output_type": "stream",
     "text": [
      "497\n"
     ]
    }
   ],
   "source": [
    "# Solución\n",
    "\n",
    "precio_promedio = dfautos['item_price'].mean() # Promedio general\n",
    "\n",
    "autos_filtrados = dfautos[(dfautos['item_km'] > 100000) & (dfautos['item_price'] < precio_promedio)] # Haciendo el filtro\n",
    "\n",
    "numero_autos = autos_filtrados.shape[0] # Hallando el número\n",
    "\n",
    "print(numero_autos)"
   ]
  },
  {
   "cell_type": "markdown",
   "metadata": {},
   "source": [
    "3. Encuentra el modelo (`item_name`) más caro y el más barato de cada marca (`item_brand`)."
   ]
  },
  {
   "cell_type": "code",
   "execution_count": 11,
   "metadata": {},
   "outputs": [
    {
     "name": "stdout",
     "output_type": "stream",
     "text": [
      "      item_brand             item_name_max  item_price_max  \\\n",
      "0     ALFA-ROMEO       alfa-romeo 147 2006          8500.0   \n",
      "1   ASTON MARTIN     aston martin dbx 2021        229000.0   \n",
      "2           AUDI            audi rs 6 2024        220000.0   \n",
      "3         AUSTIN   austin mini cooper 1970             1.0   \n",
      "4           BAIC             baic x55 2021         12800.0   \n",
      "..           ...                       ...             ...   \n",
      "68           SWM          swm g05 pro 2022         14000.0   \n",
      "69        TOYOTA         toyota hilux 2019        100000.0   \n",
      "70       TRIUMPH         triumph tr-7 1971         18900.0   \n",
      "71    VOLKSWAGEN  volkswagen teramont 2023         48900.0   \n",
      "72         VOLVO          volvo xc-90 2023         84990.0   \n",
      "\n",
      "                     item_name_min  item_price_min  \n",
      "0          alfa-romeo alfasud 1982          2500.0  \n",
      "1           aston martin db11 2017        149900.0  \n",
      "2               audi a3 sedan 2015             0.0  \n",
      "3          austin mini cooper 1970             1.0  \n",
      "4                   baic plus 2018          7500.0  \n",
      "..                             ...             ...  \n",
      "68                swm g05 pro 2022         14000.0  \n",
      "69  toyota land cruiser prado 2011             0.0  \n",
      "70               triumph tr-7 1971         18900.0  \n",
      "71            volkswagen bora 2015             0.0  \n",
      "72            volvo 850 turbo 1995          2100.0  \n",
      "\n",
      "[73 rows x 5 columns]\n"
     ]
    }
   ],
   "source": [
    "# Solución\n",
    "\n",
    "# Hallando los máximos y mínimos de cada marca y anexándolos a nuevos dataframe\n",
    "max_precio = dfautos.loc[dfautos.groupby('item_brand')['item_price'].idxmax()][['item_brand', 'item_name', 'item_price']]\n",
    "min_precio = dfautos.loc[dfautos.groupby('item_brand')['item_price'].idxmin()][['item_brand', 'item_name', 'item_price']]\n",
    "\n",
    "# Unir los dataframes para obtener el resultado final\n",
    "resultados = pd.merge(max_precio, min_precio, on='item_brand', suffixes=('_max', '_min'))\n",
    "\n",
    "print(resultados)\n"
   ]
  },
  {
   "cell_type": "markdown",
   "metadata": {},
   "source": [
    "4. Encuentra las tres marcas con mayor número de autos financiados por Santander (`item_financed_by`). "
   ]
  },
  {
   "cell_type": "code",
   "execution_count": 12,
   "metadata": {},
   "outputs": [
    {
     "name": "stdout",
     "output_type": "stream",
     "text": [
      "item_brand\n",
      "BMW       296\n",
      "TOYOTA    261\n",
      "NISSAN    228\n",
      "Name: count, dtype: int64\n"
     ]
    }
   ],
   "source": [
    "# Solución\n",
    "\n",
    "autos_financiados_santander = dfautos[dfautos['item_financed_by'] == 'Santander']\n",
    "\n",
    "conteo_marcas = autos_financiados_santander['item_brand'].value_counts()\n",
    "\n",
    "print(conteo_marcas.head(3))"
   ]
  },
  {
   "cell_type": "markdown",
   "metadata": {},
   "source": [
    "5. Agrupa las publicaciones por tipo de transmisión (`item_transmission`) y calcula la desviación estándar del precio (`item_price`) para cada tipo.  "
   ]
  },
  {
   "cell_type": "code",
   "execution_count": 15,
   "metadata": {},
   "outputs": [
    {
     "data": {
      "text/html": [
       "<div>\n",
       "<style scoped>\n",
       "    .dataframe tbody tr th:only-of-type {\n",
       "        vertical-align: middle;\n",
       "    }\n",
       "\n",
       "    .dataframe tbody tr th {\n",
       "        vertical-align: top;\n",
       "    }\n",
       "\n",
       "    .dataframe thead th {\n",
       "        text-align: right;\n",
       "    }\n",
       "</style>\n",
       "<table border=\"1\" class=\"dataframe\">\n",
       "  <thead>\n",
       "    <tr style=\"text-align: right;\">\n",
       "      <th></th>\n",
       "      <th>item_transmission</th>\n",
       "      <th>sd_itemprice</th>\n",
       "    </tr>\n",
       "  </thead>\n",
       "  <tbody>\n",
       "    <tr>\n",
       "      <th>0</th>\n",
       "      <td>Automática</td>\n",
       "      <td>15332.729048</td>\n",
       "    </tr>\n",
       "    <tr>\n",
       "      <th>1</th>\n",
       "      <td>Automática - Secuencial</td>\n",
       "      <td>22678.641589</td>\n",
       "    </tr>\n",
       "    <tr>\n",
       "      <th>2</th>\n",
       "      <td>Mecánica</td>\n",
       "      <td>8137.122127</td>\n",
       "    </tr>\n",
       "  </tbody>\n",
       "</table>\n",
       "</div>"
      ],
      "text/plain": [
       "         item_transmission  sd_itemprice\n",
       "0               Automática  15332.729048\n",
       "1  Automática - Secuencial  22678.641589\n",
       "2                 Mecánica   8137.122127"
      ]
     },
     "execution_count": 15,
     "metadata": {},
     "output_type": "execute_result"
    }
   ],
   "source": [
    "# Solución\n",
    "\n",
    "dfautos.groupby('item_transmission')['item_price'].std().reset_index().rename(columns={'item_price': 'sd_itemprice'})"
   ]
  },
  {
   "cell_type": "markdown",
   "metadata": {},
   "source": [
    "6. ¿Cuál es el kilometraje promedio de las publicaciones con el tag \"Premium\" y de las publicaciones con el tag \"Como nuevo\"?"
   ]
  },
  {
   "cell_type": "code",
   "execution_count": 17,
   "metadata": {},
   "outputs": [
    {
     "data": {
      "text/html": [
       "<div>\n",
       "<style scoped>\n",
       "    .dataframe tbody tr th:only-of-type {\n",
       "        vertical-align: middle;\n",
       "    }\n",
       "\n",
       "    .dataframe tbody tr th {\n",
       "        vertical-align: top;\n",
       "    }\n",
       "\n",
       "    .dataframe thead th {\n",
       "        text-align: right;\n",
       "    }\n",
       "</style>\n",
       "<table border=\"1\" class=\"dataframe\">\n",
       "  <thead>\n",
       "    <tr style=\"text-align: right;\">\n",
       "      <th></th>\n",
       "      <th>item_tag</th>\n",
       "      <th>item_km</th>\n",
       "    </tr>\n",
       "  </thead>\n",
       "  <tbody>\n",
       "    <tr>\n",
       "      <th>0</th>\n",
       "      <td>Como nuevo</td>\n",
       "      <td>35963.476190</td>\n",
       "    </tr>\n",
       "    <tr>\n",
       "      <th>1</th>\n",
       "      <td>Premium</td>\n",
       "      <td>48400.235897</td>\n",
       "    </tr>\n",
       "  </tbody>\n",
       "</table>\n",
       "</div>"
      ],
      "text/plain": [
       "     item_tag       item_km\n",
       "0  Como nuevo  35963.476190\n",
       "1     Premium  48400.235897"
      ]
     },
     "execution_count": 17,
     "metadata": {},
     "output_type": "execute_result"
    }
   ],
   "source": [
    "# Solución\n",
    "dfautos[dfautos['item_tag'].isin(['Premium', 'Como nuevo'])].groupby('item_tag')['item_km'].mean().reset_index()"
   ]
  },
  {
   "cell_type": "markdown",
   "metadata": {},
   "source": [
    "7. ¿Cuáles son las marcas de vehículas para los que todos sus modelos fabricados en los últimos 5 años tienen al menos 5 publicaciones cada una?"
   ]
  },
  {
   "cell_type": "code",
   "execution_count": 20,
   "metadata": {},
   "outputs": [
    {
     "name": "stdout",
     "output_type": "stream",
     "text": [
      "[]\n"
     ]
    }
   ],
   "source": [
    "# Solución\n",
    "\n",
    "from datetime import datetime\n",
    "\n",
    "anio_actual = datetime.now().year\n",
    "\n",
    "dfautos_recientes = dfautos[dfautos['item_year'] >= anio_actual - 5]\n",
    "\n",
    "conteo_publicaciones = dfautos_recientes.groupby(['item_brand', 'item_name']).size()\n",
    "\n",
    "modelos_filtrados = conteo_publicaciones[conteo_publicaciones >= 5]\n",
    "\n",
    "marcas_validas = []\n",
    "for marca, grupo in dfautos_recientes.groupby('item_brand'):\n",
    "    \n",
    "    modelos_marca = grupo['item_name'].unique()\n",
    "    publicaciones_modelos = conteo_publicaciones[conteo_publicaciones.index.get_level_values('item_brand') == marca]\n",
    "    \n",
    "    if all(publicaciones_modelos >= 5):\n",
    "        marcas_validas.append(marca)\n",
    "\n",
    "print(marcas_validas)"
   ]
  },
  {
   "cell_type": "markdown",
   "metadata": {},
   "source": [
    "## **Evolución económica internacional**"
   ]
  },
  {
   "cell_type": "markdown",
   "metadata": {},
   "source": [
    "Importa el conjunto de datos de la hoja \"Data\" del archivo `pwt1001.xlsx`. El diccionario de variables está disponible en la hoja \"Legend\" del archivo Excel.\n",
    "    "
   ]
  },
  {
   "cell_type": "markdown",
   "metadata": {},
   "source": [
    "1. Calcule el PBI per cápita real ajustado por poder de paridad de compra (PPP). Use la variable de PBI que se calcula por gasto y la población. ¿Cuáles son los 10 países top?"
   ]
  },
  {
   "cell_type": "code",
   "execution_count": null,
   "metadata": {},
   "outputs": [],
   "source": [
    "# Solución"
   ]
  },
  {
   "cell_type": "markdown",
   "metadata": {},
   "source": [
    "2. Genera el ránking de los países con el mayor incremento del PBI per cápita real PPP entre los años 1990 y 2019. ¿Dónde se ubica Perú? Para los países que no tengan información para dichos años, puede utilizar datos provenientes de hasta dos años antes o después"
   ]
  },
  {
   "cell_type": "code",
   "execution_count": null,
   "metadata": {},
   "outputs": [],
   "source": [
    "# Solución"
   ]
  },
  {
   "cell_type": "markdown",
   "metadata": {},
   "source": [
    "3. Para el periodo 2010-2019, calcule el promedio del índice del capital humano. ¿Qué relación existe entre esta variable y el PBI per cápita real PPP calculado previamente? ¿y el número de horas laboradas al año por los trabajadores?"
   ]
  },
  {
   "cell_type": "code",
   "execution_count": null,
   "metadata": {},
   "outputs": [],
   "source": [
    "# Solución"
   ]
  },
  {
   "cell_type": "markdown",
   "metadata": {},
   "source": [
    "4. A partir de la variable del precio de los hogares, calcula los países y los años en los cuales se registró la mayor inflación anual para todo el periodo de tiempo disponible en la base de datos"
   ]
  },
  {
   "cell_type": "code",
   "execution_count": null,
   "metadata": {},
   "outputs": [],
   "source": [
    "# Solución"
   ]
  },
  {
   "cell_type": "markdown",
   "metadata": {},
   "source": [
    "5. ¿Cuáles son los países con la mayor cantidad de missing values en la variable de productividad total de factores a precios corrientes?"
   ]
  },
  {
   "cell_type": "code",
   "execution_count": null,
   "metadata": {},
   "outputs": [],
   "source": [
    "# Solución"
   ]
  },
  {
   "cell_type": "markdown",
   "metadata": {},
   "source": [
    "6.  Agrupa los datos por país y calcula el promedio de las horas trabajadas anuales (avh) y de la educación promedio (hc) para el periodo 2000-2020."
   ]
  },
  {
   "cell_type": "code",
   "execution_count": null,
   "metadata": {},
   "outputs": [],
   "source": [
    "# Solución"
   ]
  },
  {
   "cell_type": "markdown",
   "metadata": {},
   "source": [
    "7.  Genere una variable que ordene a los países según el porcetaje de formación brutal de capital del 2019. Luego, estable diez grupos a manera de deciles. ¿En qué decil se ubica Péru? Vuelva a calcular usando la información de 1990. ¿El Perú se mantiene en el mismo décil o cambia?"
   ]
  },
  {
   "cell_type": "code",
   "execution_count": null,
   "metadata": {},
   "outputs": [],
   "source": [
    "# Solución"
   ]
  },
  {
   "cell_type": "markdown",
   "metadata": {},
   "source": [
    "## **Transacciones Financieras**"
   ]
  },
  {
   "cell_type": "markdown",
   "metadata": {},
   "source": [
    "Importa el conjunto de datos `base_financiera.csv`\n",
    "    "
   ]
  },
  {
   "cell_type": "markdown",
   "metadata": {},
   "source": [
    "8. Filtra todas las transacciones de tipo \"Debit\" en las que el monto sea mayor a 200, y calcula el monto total de esas transacciones. Además, determina cuántos clientes únicos realizaron esas transacciones."
   ]
  },
  {
   "cell_type": "code",
   "execution_count": 10,
   "metadata": {},
   "outputs": [
    {
     "name": "stdout",
     "output_type": "stream",
     "text": [
      "Monto total de las transacciones: 2847871.75\n",
      "Número de clientes únicos: 200\n"
     ]
    }
   ],
   "source": [
    "# Solución\n",
    "\n",
    "import pandas as pd\n",
    "\n",
    "dffinance = pd.read_csv(\"base_financiera.csv\")\n",
    "\n",
    "transacciones_debit = dffinance[(dffinance['Transaction_Type'] == 'Debit') & (dffinance['Amount'] > 200)]\n",
    "\n",
    "# Calculamos el monto total de esas transacciones\n",
    "monto_total = transacciones_debit['Amount'].sum()\n",
    "\n",
    "# Determinamos cuántos clientes únicos realizaron esas transacciones\n",
    "clientes_unicos = transacciones_debit['Customer_ID'].nunique()\n",
    "\n",
    "# Mostrar los resultados\n",
    "print(f'Monto total de las transacciones: {monto_total}')\n",
    "print(f'Número de clientes únicos: {clientes_unicos}')"
   ]
  },
  {
   "cell_type": "markdown",
   "metadata": {},
   "source": [
    "9. Identifica las transacciones con valores nulos en la columna (`Amount`) . Rellena esos valores con la mediana de los montos por tipo de transacción (`Transaction_Type`) y luego calcula el monto total de transacciones por región (`region`) ."
   ]
  },
  {
   "cell_type": "code",
   "execution_count": 13,
   "metadata": {},
   "outputs": [
    {
     "name": "stdout",
     "output_type": "stream",
     "text": [
      "\n",
      "Monto total de transacciones por región:\n",
      "  Region      Amount\n",
      "0   East  1269409.53\n",
      "1  North  1321224.96\n",
      "2  South  1208300.23\n",
      "3   West  1233552.50\n"
     ]
    }
   ],
   "source": [
    "# Solución\n",
    "\n",
    "import pandas as pd\n",
    "\n",
    "transacciones_nulas = dffinance[dffinance['Amount'].isnull()]\n",
    "\n",
    "medianas_por_tipo = dffinance.groupby('Transaction_Type')['Amount'].median()\n",
    "\n",
    "# Función para rellenar los valores nulos con la mediana correspondiente\n",
    "def rellenar_nulos(row):\n",
    "    if pd.isnull(row['Amount']):\n",
    "        return medianas_por_tipo[row['Transaction_Type']]\n",
    "    else:\n",
    "        return row['Amount']\n",
    "\n",
    "dffinance['Amount'] = dffinance.apply(rellenar_nulos, axis=1)\n",
    "\n",
    "monto_total_por_region = dffinance.groupby('Region')['Amount'].sum().reset_index()\n",
    "\n",
    "print(\"\\nMonto total de transacciones por región:\")\n",
    "print(monto_total_por_region)"
   ]
  },
  {
   "cell_type": "markdown",
   "metadata": {},
   "source": [
    "10. Busca transacciones duplicadas considerando las columnas (`Customer_ID`) y (`Date`). Elimina los duplicados manteniendo solo la primera ocurrencia. Luego, agrupa las transacciones restantes por (`Customer_ID`) y calcula el monto promedio y la cantidad de transacciones por cliente."
   ]
  },
  {
   "cell_type": "code",
   "execution_count": null,
   "metadata": {},
   "outputs": [],
   "source": [
    "# Solución"
   ]
  }
 ],
 "metadata": {
  "hide_input": false,
  "kernelspec": {
   "display_name": "Python 3",
   "language": "python",
   "name": "python3"
  },
  "language_info": {
   "codemirror_mode": {
    "name": "ipython",
    "version": 3
   },
   "file_extension": ".py",
   "mimetype": "text/x-python",
   "name": "python",
   "nbconvert_exporter": "python",
   "pygments_lexer": "ipython3",
   "version": "3.13.0"
  },
  "toc": {
   "base_numbering": 1,
   "nav_menu": {},
   "number_sections": true,
   "sideBar": true,
   "skip_h1_title": false,
   "title_cell": "Table of Contents",
   "title_sidebar": "Contents",
   "toc_cell": false,
   "toc_position": {},
   "toc_section_display": true,
   "toc_window_display": false
  }
 },
 "nbformat": 4,
 "nbformat_minor": 4
}
